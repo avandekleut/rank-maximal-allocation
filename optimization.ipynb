{
 "cells": [
  {
   "cell_type": "markdown",
   "id": "318ec55c",
   "metadata": {},
   "source": [
    "https://en.wikipedia.org/wiki/Rank-maximal_allocation"
   ]
  },
  {
   "cell_type": "code",
   "execution_count": 1,
   "id": "d0b321a3",
   "metadata": {},
   "outputs": [
    {
     "name": "stdout",
     "output_type": "stream",
     "text": [
      "Requirement already satisfied: scipy in /usr/local/Caskroom/miniconda/base/envs/website/lib/python3.7/site-packages (1.6.3)\n",
      "Requirement already satisfied: numpy in /usr/local/Caskroom/miniconda/base/envs/website/lib/python3.7/site-packages (1.20.2)\n"
     ]
    }
   ],
   "source": [
    "!pip install scipy numpy\n",
    "%config Completer.use_jedi = False"
   ]
  },
  {
   "cell_type": "code",
   "execution_count": 2,
   "id": "1262ac3c",
   "metadata": {},
   "outputs": [],
   "source": [
    "import numpy as np"
   ]
  },
  {
   "cell_type": "code",
   "execution_count": 3,
   "id": "87d0addf",
   "metadata": {},
   "outputs": [],
   "source": [
    "import scipy.optimize"
   ]
  },
  {
   "cell_type": "code",
   "execution_count": 4,
   "id": "484db5c6",
   "metadata": {},
   "outputs": [],
   "source": [
    "# Hungarian algorithm (Kuhn-Munkres) for solving the linear sum assignment\n",
    "# problem. Taken from scikit-learn. Based on original code by Brian Clapper,\n",
    "# adapted to NumPy by Gael Varoquaux.\n",
    "# Further improvements by Ben Root, Vlad Niculae and Lars Buitinck.\n",
    "#\n",
    "# Copyright (c) 2008 Brian M. Clapper <bmc@clapper.org>, Gael Varoquaux\n",
    "# Author: Brian M. Clapper, Gael Varoquaux\n",
    "# License: 3-clause BSD\n",
    "\n",
    "import numpy as np\n",
    "\n",
    "\n",
    "def linear_sum_assignment(cost_matrix):\n",
    "    \"\"\"Solve the linear sum assignment problem.\n",
    "\n",
    "    The linear sum assignment problem is also known as minimum weight matching\n",
    "    in bipartite graphs. A problem instance is described by a matrix C, where\n",
    "    each C[i,j] is the cost of matching vertex i of the first partite set\n",
    "    (a \"worker\") and vertex j of the second set (a \"job\"). The goal is to find\n",
    "    a complete assignment of workers to jobs of minimal cost.\n",
    "\n",
    "    Formally, let X be a boolean matrix where :math:`X[i,j] = 1` iff row i is\n",
    "    assigned to column j. Then the optimal assignment has cost\n",
    "\n",
    "    .. math::\n",
    "        \\min \\sum_i \\sum_j C_{i,j} X_{i,j}\n",
    "\n",
    "    s.t. each row is assignment to at most one column, and each column to at\n",
    "    most one row.\n",
    "\n",
    "    This function can also solve a generalization of the classic assignment\n",
    "    problem where the cost matrix is rectangular. If it has more rows than\n",
    "    columns, then not every row needs to be assigned to a column, and vice\n",
    "    versa.\n",
    "\n",
    "    The method used is the Hungarian algorithm, also known as the Munkres or\n",
    "    Kuhn-Munkres algorithm.\n",
    "\n",
    "    Parameters\n",
    "    ----------\n",
    "    cost_matrix : array\n",
    "        The cost matrix of the bipartite graph.\n",
    "\n",
    "    Returns\n",
    "    -------\n",
    "    row_ind, col_ind : array\n",
    "        An array of row indices and one of corresponding column indices giving\n",
    "        the optimal assignment. The cost of the assignment can be computed\n",
    "        as ``cost_matrix[row_ind, col_ind].sum()``. The row indices will be\n",
    "        sorted; in the case of a square cost matrix they will be equal to\n",
    "        ``numpy.arange(cost_matrix.shape[0])``.\n",
    "\n",
    "    Notes\n",
    "    -----\n",
    "    .. versionadded:: 0.17.0\n",
    "\n",
    "    Examples\n",
    "    --------\n",
    "    >>> cost = np.array([[4, 1, 3], [2, 0, 5], [3, 2, 2]])\n",
    "    >>> from scipy.optimize import linear_sum_assignment\n",
    "    >>> row_ind, col_ind = linear_sum_assignment(cost)\n",
    "    >>> col_ind\n",
    "    array([1, 0, 2])\n",
    "    >>> cost[row_ind, col_ind].sum()\n",
    "    5\n",
    "\n",
    "    References\n",
    "    ----------\n",
    "    1. http://csclab.murraystate.edu/bob.pilgrim/445/munkres.html\n",
    "\n",
    "    2. Harold W. Kuhn. The Hungarian Method for the assignment problem.\n",
    "       *Naval Research Logistics Quarterly*, 2:83-97, 1955.\n",
    "\n",
    "    3. Harold W. Kuhn. Variants of the Hungarian method for assignment\n",
    "       problems. *Naval Research Logistics Quarterly*, 3: 253-258, 1956.\n",
    "\n",
    "    4. Munkres, J. Algorithms for the Assignment and Transportation Problems.\n",
    "       *J. SIAM*, 5(1):32-38, March, 1957.\n",
    "\n",
    "    5. https://en.wikipedia.org/wiki/Hungarian_algorithm\n",
    "    \"\"\"\n",
    "    cost_matrix = np.asarray(cost_matrix)\n",
    "    if len(cost_matrix.shape) != 2:\n",
    "        raise ValueError(\"expected a matrix (2-d array), got a %r array\"\n",
    "                         % (cost_matrix.shape,))\n",
    "\n",
    "    # The algorithm expects more columns than rows in the cost matrix.\n",
    "    if cost_matrix.shape[1] < cost_matrix.shape[0]:\n",
    "        cost_matrix = cost_matrix.T\n",
    "        transposed = True\n",
    "    else:\n",
    "        transposed = False\n",
    "\n",
    "    state = _Hungary(cost_matrix)\n",
    "\n",
    "    # No need to bother with assignments if one of the dimensions\n",
    "    # of the cost matrix is zero-length.\n",
    "    step = None if 0 in cost_matrix.shape else _step1\n",
    "\n",
    "    while step is not None:\n",
    "        step = step(state)\n",
    "\n",
    "    if transposed:\n",
    "        marked = state.marked.T\n",
    "    else:\n",
    "        marked = state.marked\n",
    "    return np.where(marked == 1)\n",
    "\n",
    "\n",
    "class _Hungary(object):\n",
    "    \"\"\"State of the Hungarian algorithm.\n",
    "\n",
    "    Parameters\n",
    "    ----------\n",
    "    cost_matrix : 2D matrix\n",
    "        The cost matrix. Must have shape[1] >= shape[0].\n",
    "    \"\"\"\n",
    "\n",
    "    def __init__(self, cost_matrix):\n",
    "        self.C = cost_matrix.copy()\n",
    "\n",
    "        n, m = self.C.shape\n",
    "        self.row_uncovered = np.ones(n, dtype=bool)\n",
    "        self.col_uncovered = np.ones(m, dtype=bool)\n",
    "        self.Z0_r = 0\n",
    "        self.Z0_c = 0\n",
    "        self.path = np.zeros((n + m, 2), dtype=int)\n",
    "        self.marked = np.zeros((n, m), dtype=int)\n",
    "\n",
    "    def _clear_covers(self):\n",
    "        \"\"\"Clear all covered matrix cells\"\"\"\n",
    "        self.row_uncovered[:] = True\n",
    "        self.col_uncovered[:] = True\n",
    "\n",
    "\n",
    "# Individual steps of the algorithm follow, as a state machine: they return\n",
    "# the next step to be taken (function to be called), if any.\n",
    "\n",
    "def _step1(state):\n",
    "    \"\"\"Steps 1 and 2 in the Wikipedia page.\"\"\"\n",
    "\n",
    "    # Step 1: For each row of the matrix, find the smallest element and\n",
    "    # subtract it from every element in its row.\n",
    "    state.C -= state.C.min(axis=1)[:, np.newaxis]\n",
    "    # Step 2: Find a zero (Z) in the resulting matrix. If there is no\n",
    "    # starred zero in its row or column, star Z. Repeat for each element\n",
    "    # in the matrix.\n",
    "    for i, j in zip(*np.where(state.C == 0)):\n",
    "        if state.col_uncovered[j] and state.row_uncovered[i]:\n",
    "            state.marked[i, j] = 1\n",
    "            state.col_uncovered[j] = False\n",
    "            state.row_uncovered[i] = False\n",
    "\n",
    "    state._clear_covers()\n",
    "    return _step3\n",
    "\n",
    "\n",
    "def _step3(state):\n",
    "    \"\"\"\n",
    "    Cover each column containing a starred zero. If n columns are covered,\n",
    "    the starred zeros describe a complete set of unique assignments.\n",
    "    In this case, Go to DONE, otherwise, Go to Step 4.\n",
    "    \"\"\"\n",
    "    marked = (state.marked == 1)\n",
    "    state.col_uncovered[np.any(marked, axis=0)] = False\n",
    "\n",
    "    if marked.sum() < state.C.shape[0]:\n",
    "        return _step4\n",
    "\n",
    "\n",
    "def _step4(state):\n",
    "    \"\"\"\n",
    "    Find a noncovered zero and prime it. If there is no starred zero\n",
    "    in the row containing this primed zero, Go to Step 5. Otherwise,\n",
    "    cover this row and uncover the column containing the starred\n",
    "    zero. Continue in this manner until there are no uncovered zeros\n",
    "    left. Save the smallest uncovered value and Go to Step 6.\n",
    "    \"\"\"\n",
    "    # We convert to int as numpy operations are faster on int\n",
    "    C = (state.C == 0).astype(int)\n",
    "    covered_C = C * state.row_uncovered[:, np.newaxis]\n",
    "    covered_C *= np.asarray(state.col_uncovered, dtype=int)\n",
    "    n = state.C.shape[0]\n",
    "    m = state.C.shape[1]\n",
    "\n",
    "    while True:\n",
    "        # Find an uncovered zero\n",
    "        row, col = np.unravel_index(np.argmax(covered_C), (n, m))\n",
    "        if covered_C[row, col] == 0:\n",
    "            return _step6\n",
    "        else:\n",
    "            state.marked[row, col] = 2\n",
    "            # Find the first starred element in the row\n",
    "            star_col = np.argmax(state.marked[row] == 1)\n",
    "            if state.marked[row, star_col] != 1:\n",
    "                # Could not find one\n",
    "                state.Z0_r = row\n",
    "                state.Z0_c = col\n",
    "                return _step5\n",
    "            else:\n",
    "                col = star_col\n",
    "                state.row_uncovered[row] = False\n",
    "                state.col_uncovered[col] = True\n",
    "                covered_C[:, col] = C[:, col] * (\n",
    "                    np.asarray(state.row_uncovered, dtype=int))\n",
    "                covered_C[row] = 0\n",
    "\n",
    "\n",
    "def _step5(state):\n",
    "    \"\"\"\n",
    "    Construct a series of alternating primed and starred zeros as follows.\n",
    "    Let Z0 represent the uncovered primed zero found in Step 4.\n",
    "    Let Z1 denote the starred zero in the column of Z0 (if any).\n",
    "    Let Z2 denote the primed zero in the row of Z1 (there will always be one).\n",
    "    Continue until the series terminates at a primed zero that has no starred\n",
    "    zero in its column. Unstar each starred zero of the series, star each\n",
    "    primed zero of the series, erase all primes and uncover every line in the\n",
    "    matrix. Return to Step 3\n",
    "    \"\"\"\n",
    "    count = 0\n",
    "    path = state.path\n",
    "    path[count, 0] = state.Z0_r\n",
    "    path[count, 1] = state.Z0_c\n",
    "\n",
    "    while True:\n",
    "        # Find the first starred element in the col defined by\n",
    "        # the path.\n",
    "        row = np.argmax(state.marked[:, path[count, 1]] == 1)\n",
    "        if state.marked[row, path[count, 1]] != 1:\n",
    "            # Could not find one\n",
    "            break\n",
    "        else:\n",
    "            count += 1\n",
    "            path[count, 0] = row\n",
    "            path[count, 1] = path[count - 1, 1]\n",
    "\n",
    "        # Find the first prime element in the row defined by the\n",
    "        # first path step\n",
    "        col = np.argmax(state.marked[path[count, 0]] == 2)\n",
    "        if state.marked[row, col] != 2:\n",
    "            col = -1\n",
    "        count += 1\n",
    "        path[count, 0] = path[count - 1, 0]\n",
    "        path[count, 1] = col\n",
    "\n",
    "    # Convert paths\n",
    "    for i in range(count + 1):\n",
    "        if state.marked[path[i, 0], path[i, 1]] == 1:\n",
    "            state.marked[path[i, 0], path[i, 1]] = 0\n",
    "        else:\n",
    "            state.marked[path[i, 0], path[i, 1]] = 1\n",
    "\n",
    "    state._clear_covers()\n",
    "    # Erase all prime markings\n",
    "    state.marked[state.marked == 2] = 0\n",
    "    return _step3\n",
    "\n",
    "\n",
    "def _step6(state):\n",
    "    \"\"\"\n",
    "    Add the value found in Step 4 to every element of each covered row,\n",
    "    and subtract it from every element of each uncovered column.\n",
    "    Return to Step 4 without altering any stars, primes, or covered lines.\n",
    "    \"\"\"\n",
    "    # the smallest uncovered value in the matrix\n",
    "    if np.any(state.row_uncovered) and np.any(state.col_uncovered):\n",
    "        minval = np.min(state.C[state.row_uncovered], axis=0)\n",
    "        minval = np.min(minval[state.col_uncovered])\n",
    "        state.C[~state.row_uncovered] += minval\n",
    "        state.C[:, state.col_uncovered] -= minval\n",
    "    return _step4"
   ]
  },
  {
   "cell_type": "markdown",
   "id": "1120d501",
   "metadata": {},
   "source": [
    "We have $n$ applicants to $m$ jobs"
   ]
  },
  {
   "cell_type": "code",
   "execution_count": 5,
   "id": "45c7f8b9",
   "metadata": {},
   "outputs": [],
   "source": [
    "def compute_profile(ranks, applicants, jobs):\n",
    "    \n",
    "#     print(f\"\"\"\n",
    "# ranks: {ranks}\n",
    "# jobs:  {jobs}\n",
    "#     \"\"\")\n",
    "    \n",
    "    selected_ranks = ranks[applicants]\n",
    "    (n, m)  = selected_ranks.shape\n",
    "    \n",
    "    argsort = np.argsort(selected_ranks, axis=1)\n",
    "    \n",
    "    profile = np.zeros(m)\n",
    "    \n",
    "    for j in range(m):\n",
    "        profile[j] = (argsort[:, j] == jobs).sum()\n",
    "    assert profile.sum() == n\n",
    "    return profile\n",
    "\n"
   ]
  },
  {
   "cell_type": "code",
   "execution_count": 6,
   "id": "c4b64079",
   "metadata": {},
   "outputs": [],
   "source": [
    "\"\"\"\n",
    "returns an n x m matrix where [i, j] is the rank of job j by applicant i\n",
    "\"\"\"\n",
    "def generate_random_ranks(n, m):\n",
    "     # rank[a,p] is the preference of Applicant a to Post p\n",
    "    ranks = np.array([np.random.permutation(m) for a in range(n)])\n",
    "    return ranks # since humans count starting at 1"
   ]
  },
  {
   "cell_type": "code",
   "execution_count": 7,
   "id": "dd101a38",
   "metadata": {},
   "outputs": [],
   "source": [
    "\"\"\"\n",
    "ranks: n x m matrix returned from generate_random_ranks(n, m)\n",
    "\n",
    "negative since we want to minimize this quantity\n",
    "\"\"\"\n",
    "\n",
    "def compute_weights(ranks):\n",
    "    (n, m) = ranks.shape\n",
    "    weights = np.array(n, dtype=object)**(np.array(m, dtype=object)-ranks.astype(object))\n",
    "    return -weights"
   ]
  },
  {
   "cell_type": "code",
   "execution_count": 8,
   "id": "2ee4378e",
   "metadata": {},
   "outputs": [],
   "source": [
    "def rank_maximal_allocation(ranks):\n",
    "    weights = compute_weights(ranks)\n",
    "    applicants, jobs = linear_sum_assignment(weights)\n",
    "    return applicants, jobs"
   ]
  },
  {
   "cell_type": "code",
   "execution_count": 9,
   "id": "4ded6373",
   "metadata": {},
   "outputs": [],
   "source": [
    "\"\"\"\n",
    "Returns  1 if b comes before a in lexicographic order\n",
    "Returns -1 if a comes before b in lexicographic order\n",
    "Returns  0 if they are the same\n",
    "\"\"\"\n",
    "def compare_profiles(a, b):\n",
    "    where = np.where( (a>b) != (a<b) )\n",
    "    if where[0].size == 0:\n",
    "        # they are identical\n",
    "        return 0\n",
    "    \n",
    "    idx = where[0][0]\n",
    "\n",
    "    if a[idx] < b[idx]:\n",
    "        return -1\n",
    "    elif a[idx] > b[idx]:\n",
    "        return 1"
   ]
  },
  {
   "cell_type": "code",
   "execution_count": 10,
   "id": "846761fb",
   "metadata": {},
   "outputs": [],
   "source": [
    "def round_robin(ranks):\n",
    "    (n, m) = ranks.shape\n",
    "    \n",
    "    available_jobs = list(range(m))\n",
    "    \n",
    "    maximum_available_assignments = min(n, m)\n",
    "    \n",
    "    assigned_jobs = np.empty(maximum_available_assignments ,dtype=int)\n",
    "    \n",
    "    lottery_order = np.random.choice(np.arange(n), maximum_available_assignments, replace=False)\n",
    "    for i in range(maximum_available_assignments):\n",
    "        applicant = lottery_order[i]\n",
    "        \n",
    "        jobs = np.arange(m)\n",
    "        ranks_for_applicant = ranks[applicant]\n",
    "        \n",
    "        # recall that ranks[i] is the *rank* for items 0, 1, 2, etc\n",
    "        # so if we want to get the actual jobs they want in order, we\n",
    "        # need to argsort\n",
    "        jobs_in_preferred_order = jobs[np.argsort(ranks_for_applicant)]\n",
    "        \n",
    "        for j in jobs_in_preferred_order:\n",
    "            if j in available_jobs:\n",
    "                available_jobs.remove(j)\n",
    "                assigned_jobs[i] = j\n",
    "                \n",
    "                break\n",
    "    return lottery_order, assigned_jobs"
   ]
  },
  {
   "cell_type": "code",
   "execution_count": 11,
   "id": "a75626fe",
   "metadata": {},
   "outputs": [],
   "source": [
    "ranks = generate_random_ranks(3, 8)"
   ]
  },
  {
   "cell_type": "code",
   "execution_count": 12,
   "id": "914109f9",
   "metadata": {},
   "outputs": [
    {
     "name": "stdout",
     "output_type": "stream",
     "text": [
      "[0 1 2] [6 4 0]\n",
      "[3. 0. 0. 0. 0. 0. 0. 0.]\n"
     ]
    }
   ],
   "source": [
    "applicants_rm, jobs_rm = rank_maximal_allocation(ranks)\n",
    "print(applicants_rm, jobs_rm)\n",
    "print(compute_profile(ranks, applicants_rm, jobs_rm))"
   ]
  },
  {
   "cell_type": "code",
   "execution_count": 13,
   "id": "9e88f1bb",
   "metadata": {},
   "outputs": [
    {
     "name": "stdout",
     "output_type": "stream",
     "text": [
      "[0 2 1] [6 0 4]\n",
      "[3. 0. 0. 0. 0. 0. 0. 0.]\n"
     ]
    }
   ],
   "source": [
    "applicants_rr, jobs_rr = round_robin(ranks)\n",
    "print(applicants_rr, jobs_rr)\n",
    "print(compute_profile(ranks, applicants_rr, jobs_rr))"
   ]
  },
  {
   "cell_type": "markdown",
   "id": "9dcac275",
   "metadata": {},
   "source": [
    "## TESTING"
   ]
  },
  {
   "cell_type": "code",
   "execution_count": 14,
   "id": "4f02ab7d",
   "metadata": {},
   "outputs": [],
   "source": [
    "\"\"\"\n",
    "Returns a measure between -1 and 1, with -1 being worse every time and 1 being better or equal every time\n",
    "\"\"\"\n",
    "\n",
    "def compare_algorithms(n, m, num_iterations=10, rounds=10):\n",
    "    overall_score = 0\n",
    "    \n",
    "    for i in range(num_iterations):\n",
    "        ranks = generate_random_ranks(n, m)\n",
    "\n",
    "        applicants_rm, jobs_rm = rank_maximal_allocation(ranks)\n",
    "        profile_rm = compute_profile(ranks, applicants_rm, jobs_rm)\n",
    "\n",
    "        for j in range(rounds):\n",
    "            applicants_rr, jobs_rr = round_robin(ranks)\n",
    "            profile_rr = compute_profile(ranks, applicants_rr, jobs_rr)\n",
    "            \n",
    "            score = compare_profiles(profile_rm, profile_rr)\n",
    "            overall_score += score\n",
    "            \n",
    "            # Below should never happen due to optimality of assignment\n",
    "            if score == -1:\n",
    "                print(f'Found exception ({n},{m}) {profile_rr} > {profile_rm}')\n",
    "                print(f'ranks\\t{ranks.tolist()}')\n",
    "                print(f'jobs_rm\\t{jobs_rm.tolist()}')\n",
    "                print(f'jobs_rr\\t{jobs_rr.tolist()}')\n",
    "                return\n",
    "\n",
    "    return overall_score/(num_iterations * rounds)"
   ]
  },
  {
   "cell_type": "code",
   "execution_count": 15,
   "id": "8661c333",
   "metadata": {},
   "outputs": [],
   "source": [
    "import seaborn as sns\n",
    "sns.set()"
   ]
  },
  {
   "cell_type": "code",
   "execution_count": 16,
   "id": "70ed9592",
   "metadata": {},
   "outputs": [
    {
     "data": {
      "text/plain": [
       "0.72"
      ]
     },
     "execution_count": 16,
     "metadata": {},
     "output_type": "execute_result"
    }
   ],
   "source": [
    "compare_algorithms(5, 4)"
   ]
  },
  {
   "cell_type": "code",
   "execution_count": 17,
   "id": "51fe9369",
   "metadata": {},
   "outputs": [
    {
     "name": "stdout",
     "output_type": "stream",
     "text": [
      "i: 39 \tj: 39\r"
     ]
    }
   ],
   "source": [
    "USERS=40\n",
    "SETS=40\n",
    "scores = np.zeros((USERS, SETS))\n",
    "for i in np.arange(2, USERS):\n",
    "    for j in np.arange(2, SETS):\n",
    "        print(f'i: {i} \\tj: {j}\\r', end='')\n",
    "        score = compare_algorithms(i, j)\n",
    "        scores[i, j] = score"
   ]
  },
  {
   "cell_type": "markdown",
   "id": "0a1701c9",
   "metadata": {},
   "source": [
    "Below we compare the rank optimal assignment to round robin assignment for various values of $m$ and $n$. Grey (0) indicates equal performance. Red indicates better performance by rank optimal assignment and blue indicate better performance by round robin assignment."
   ]
  },
  {
   "cell_type": "code",
   "execution_count": 18,
   "id": "abcbe1c2",
   "metadata": {},
   "outputs": [
    {
     "data": {
      "image/png": "[encoded data removed]",
      "text/plain": [
       "<Figure size 432x288 with 2 Axes>"
      ]
     },
     "metadata": {},
     "output_type": "display_data"
    }
   ],
   "source": [
    "heatmap = sns.heatmap(scores, vmin=-1, vmax=1, cmap='coolwarm')\n",
    "_ = heatmap.set(xlabel=r'$m$', ylabel=r'$n$')"
   ]
  },
  {
   "cell_type": "markdown",
   "id": "a3b24a84",
   "metadata": {},
   "source": [
    "As we can see, rank optimal assignment is always better or equal in performance."
   ]
  },
  {
   "cell_type": "code",
   "execution_count": 19,
   "id": "b572a633",
   "metadata": {},
   "outputs": [],
   "source": [
    "def iterate_rank_maximal_allocation(ranks):\n",
    "    (n, m) = ranks.shape\n",
    "    \n",
    "    \n",
    "    overall_jobs = {i:[] for i in range(n)}\n",
    "    \n",
    "    while (True):\n",
    "        applicants_rm, jobs_rm = rank_maximal_allocation(ranks)\n",
    "        for i in range(n):\n",
    "            applicant = applicants_rm[i]\n",
    "            selected_job = jobs_rm[i]\n",
    "            \n",
    "            \n",
    "            overall_jobs[applicant].append(jobs_rm[i])\n",
    "            \n",
    "        break\n",
    "        \n",
    "        \n",
    "    return overall_jobs"
   ]
  },
  {
   "cell_type": "code",
   "execution_count": 20,
   "id": "8a6c7e37",
   "metadata": {},
   "outputs": [
    {
     "data": {
      "text/plain": [
       "array([[1, 6, 5, 7, 4, 2, 0, 3],\n",
       "       [4, 5, 7, 6, 0, 1, 3, 2],\n",
       "       [0, 5, 1, 7, 3, 2, 6, 4]])"
      ]
     },
     "execution_count": 20,
     "metadata": {},
     "output_type": "execute_result"
    }
   ],
   "source": [
    "ranks"
   ]
  },
  {
   "cell_type": "code",
   "execution_count": 21,
   "id": "da4c302f",
   "metadata": {},
   "outputs": [
    {
     "data": {
      "text/plain": [
       "{0: [6], 1: [4], 2: [0]}"
      ]
     },
     "execution_count": 21,
     "metadata": {},
     "output_type": "execute_result"
    }
   ],
   "source": [
    "iterate_rank_maximal_allocation(ranks)"
   ]
  },
  {
   "cell_type": "code",
   "execution_count": null,
   "id": "e21e823b",
   "metadata": {},
   "outputs": [],
   "source": []
  }
 ],
 "metadata": {
  "kernelspec": {
   "display_name": "Python 3",
   "language": "python",
   "name": "python3"
  },
  "language_info": {
   "codemirror_mode": {
    "name": "ipython",
    "version": 3
   },
   "file_extension": ".py",
   "mimetype": "text/x-python",
   "name": "python",
   "nbconvert_exporter": "python",
   "pygments_lexer": "ipython3",
   "version": "3.7.10"
  }
 },
 "nbformat": 4,
 "nbformat_minor": 5
}
